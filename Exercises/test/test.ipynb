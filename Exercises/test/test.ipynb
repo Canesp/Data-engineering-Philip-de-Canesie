{
 "cells": [
  {
   "cell_type": "code",
   "execution_count": 2,
   "metadata": {},
   "outputs": [
    {
     "name": "stdout",
     "output_type": "stream",
     "text": [
      "0\n"
     ]
    }
   ],
   "source": [
    "l = [\"1\", \"2\", \"3\", \"1\"]\n",
    "i = l.index(\"1\")\n",
    "print(i)"
   ]
  },
  {
   "cell_type": "code",
   "execution_count": 11,
   "metadata": {},
   "outputs": [],
   "source": [
    "s = \"moose\"\n",
    "letter_list = [\"m\",\"o\",\"o\"]\n",
    "\n",
    "if s[3] in letter_list:\n",
    "    print(\"Yes\")\n",
    "\n"
   ]
  },
  {
   "cell_type": "code",
   "execution_count": 10,
   "metadata": {},
   "outputs": [
    {
     "name": "stdout",
     "output_type": "stream",
     "text": [
      "hej på  dig!\n"
     ]
    }
   ],
   "source": [
    "text = \"hej på  dig!\"\n",
    "\n",
    "t = \" \".join([i for i in text.split(\" \")])\n",
    "print(t)"
   ]
  },
  {
   "cell_type": "code",
   "execution_count": 12,
   "metadata": {},
   "outputs": [
    {
     "name": "stdout",
     "output_type": "stream",
     "text": [
      "['x', 'y', 'a', 'b', 'c', 'd', 'e', 'f', 'w', 'k', 'l', 'm', 'o', 'p', 'q']\n"
     ]
    },
    {
     "ename": "AttributeError",
     "evalue": "'str' object has no attribute 'sort'",
     "output_type": "error",
     "traceback": [
      "\u001b[0;31m---------------------------------------------------------------------------\u001b[0m",
      "\u001b[0;31mAttributeError\u001b[0m                            Traceback (most recent call last)",
      "Cell \u001b[0;32mIn[12], line 13\u001b[0m\n\u001b[1;32m      9\u001b[0m         letters\u001b[39m.\u001b[39mappend(i)\n\u001b[1;32m     11\u001b[0m \u001b[39mprint\u001b[39m(letters)\n\u001b[0;32m---> 13\u001b[0m \u001b[39mprint\u001b[39m(\u001b[39m\"\u001b[39;49m\u001b[39m\"\u001b[39;49m\u001b[39m.\u001b[39;49mjoin(letters)\u001b[39m.\u001b[39;49msort())\n",
      "\u001b[0;31mAttributeError\u001b[0m: 'str' object has no attribute 'sort'"
     ]
    }
   ],
   "source": [
    "a1, a2 = \"xyaabbbccccdefww\", \"xxxxyyyyabklmopq\"\n",
    "\n",
    "letters = []\n",
    "    \n",
    "for i in (a1 + a2):\n",
    "    if i in letters:\n",
    "        pass\n",
    "    else:\n",
    "        letters.append(i)\n",
    "\n",
    "print(letters.sort())\n",
    "    \n",
    "print(\"\".join(letters))"
   ]
  }
 ],
 "metadata": {
  "kernelspec": {
   "display_name": "venv",
   "language": "python",
   "name": "python3"
  },
  "language_info": {
   "codemirror_mode": {
    "name": "ipython",
    "version": 3
   },
   "file_extension": ".py",
   "mimetype": "text/x-python",
   "name": "python",
   "nbconvert_exporter": "python",
   "pygments_lexer": "ipython3",
   "version": "3.9.6"
  },
  "orig_nbformat": 4
 },
 "nbformat": 4,
 "nbformat_minor": 2
}
