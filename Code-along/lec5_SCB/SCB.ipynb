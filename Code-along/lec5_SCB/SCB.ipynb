{
 "cells": [
  {
   "attachments": {},
   "cell_type": "markdown",
   "metadata": {},
   "source": [
    "## SCB API"
   ]
  },
  {
   "cell_type": "code",
   "execution_count": 1,
   "metadata": {},
   "outputs": [
    {
     "data": {
      "text/plain": [
       "[{'id': 'AA', 'type': 'l', 'text': 'Ämnesövergripande statistik'},\n",
       " {'id': 'AM', 'type': 'l', 'text': 'Arbetsmarknad'},\n",
       " {'id': 'BE', 'type': 'l', 'text': 'Befolkning'},\n",
       " {'id': 'BO', 'type': 'l', 'text': 'Boende, byggande och bebyggelse'},\n",
       " {'id': 'EN', 'type': 'l', 'text': 'Energi'},\n",
       " {'id': 'FM', 'type': 'l', 'text': 'Finansmarknad'},\n",
       " {'id': 'HA', 'type': 'l', 'text': 'Handel med varor och tjänster'},\n",
       " {'id': 'HE', 'type': 'l', 'text': 'Hushållens ekonomi'},\n",
       " {'id': 'HS', 'type': 'l', 'text': 'Hälso- och sjukvård'},\n",
       " {'id': 'JO', 'type': 'l', 'text': 'Jord- och skogsbruk, fiske'},\n",
       " {'id': 'KU', 'type': 'l', 'text': 'Kultur och fritid'},\n",
       " {'id': 'LE', 'type': 'l', 'text': 'Levnadsförhållanden'},\n",
       " {'id': 'ME', 'type': 'l', 'text': 'Demokrati'},\n",
       " {'id': 'MI', 'type': 'l', 'text': 'Miljö'},\n",
       " {'id': 'NR', 'type': 'l', 'text': 'Nationalräkenskaper'},\n",
       " {'id': 'NV', 'type': 'l', 'text': 'Näringsverksamhet'},\n",
       " {'id': 'OE', 'type': 'l', 'text': 'Offentlig ekonomi'},\n",
       " {'id': 'PR', 'type': 'l', 'text': 'Priser och konsumtion'},\n",
       " {'id': 'SO', 'type': 'l', 'text': 'Socialtjänst'},\n",
       " {'id': 'TK', 'type': 'l', 'text': 'Transporter och kommunikationer'},\n",
       " {'id': 'UF', 'type': 'l', 'text': 'Utbildning och forskning'}]"
      ]
     },
     "execution_count": 1,
     "metadata": {},
     "output_type": "execute_result"
    }
   ],
   "source": [
    "from pyscbwrapper import SCB\n",
    "\n",
    "scb = SCB(\"sv\")\n",
    "\n",
    "scb.info()"
   ]
  },
  {
   "cell_type": "code",
   "execution_count": 2,
   "metadata": {},
   "outputs": [
    {
     "data": {
      "text/plain": [
       "[{'id': 'AA', 'type': 'l', 'text': 'General statistics'},\n",
       " {'id': 'AM', 'type': 'l', 'text': 'Labour market'},\n",
       " {'id': 'BE', 'type': 'l', 'text': 'Population'},\n",
       " {'id': 'BO', 'type': 'l', 'text': 'Housing, construction and building'},\n",
       " {'id': 'EN', 'type': 'l', 'text': 'Energy'},\n",
       " {'id': 'FM', 'type': 'l', 'text': 'Financial markets'},\n",
       " {'id': 'HA', 'type': 'l', 'text': 'Trade in goods and services'},\n",
       " {'id': 'HE', 'type': 'l', 'text': 'Household finances'},\n",
       " {'id': 'JO', 'type': 'l', 'text': 'Agriculture, forestry and fishery'},\n",
       " {'id': 'LE', 'type': 'l', 'text': 'Living conditions'},\n",
       " {'id': 'ME', 'type': 'l', 'text': 'Democracy'},\n",
       " {'id': 'MI', 'type': 'l', 'text': 'Environment'},\n",
       " {'id': 'NR', 'type': 'l', 'text': 'National accounts'},\n",
       " {'id': 'NV', 'type': 'l', 'text': 'Business activities'},\n",
       " {'id': 'OE', 'type': 'l', 'text': 'Public finances'},\n",
       " {'id': 'PR', 'type': 'l', 'text': 'Prices and Consumption'},\n",
       " {'id': 'TK', 'type': 'l', 'text': 'Transport and communications'},\n",
       " {'id': 'UF', 'type': 'l', 'text': 'Education and research'}]"
      ]
     },
     "execution_count": 2,
     "metadata": {},
     "output_type": "execute_result"
    }
   ],
   "source": [
    "SCB(\"en\").info()"
   ]
  },
  {
   "cell_type": "code",
   "execution_count": 3,
   "metadata": {},
   "outputs": [
    {
     "data": {
      "text/plain": [
       "[{'id': 'MI0106',\n",
       "  'type': 'l',\n",
       "  'text': 'Discharges to water and sewage sludge production'},\n",
       " {'id': 'MI0107',\n",
       "  'type': 'l',\n",
       "  'text': 'Greenhouse gas emissions and removals'},\n",
       " {'id': 'MI0108', 'type': 'l', 'text': 'Emissions of atmospheric pollutants'},\n",
       " {'id': 'MI0305', 'type': 'l', 'text': 'Waste, generated and treated'},\n",
       " {'id': 'MI0307', 'type': 'l', 'text': 'Waste, packaging'},\n",
       " {'id': 'MI0308', 'type': 'l', 'text': 'Waste, transboundary shipments'},\n",
       " {'id': 'MI0309',\n",
       "  'type': 'l',\n",
       "  'text': 'Waste, electonic equipment and batteries'},\n",
       " {'id': 'MI0603', 'type': 'l', 'text': 'Protected nature'},\n",
       " {'id': 'MI0605',\n",
       "  'type': 'l',\n",
       "  'text': 'Formally protected forest land, voluntary set-asides, consideration patches and unproductive forest'},\n",
       " {'id': 'MI0802', 'type': 'l', 'text': 'Land and water areas'},\n",
       " {'id': 'MI0803', 'type': 'l', 'text': 'Land use in Sweden'},\n",
       " {'id': 'MI0804', 'type': 'l', 'text': 'Retail geography'},\n",
       " {'id': 'MI0805',\n",
       "  'type': 'l',\n",
       "  'text': 'Green areas within and in the vicinity of urban settlements'},\n",
       " {'id': 'MI0806', 'type': 'l', 'text': 'Concentrations of holiday homes'},\n",
       " {'id': 'MI0810', 'type': 'l', 'text': 'Localities and urban areas'},\n",
       " {'id': 'MI0811', 'type': 'l', 'text': 'Smaller localities'},\n",
       " {'id': 'MI0812', 'type': 'l', 'text': 'Land use in proximity to shoreline'},\n",
       " {'id': 'MI0815', 'type': 'l', 'text': 'Activities zones'},\n",
       " {'id': 'MI0902',\n",
       "  'type': 'l',\n",
       "  'text': 'Water withdrawal and water use in Sweden'},\n",
       " {'id': 'MI1002',\n",
       "  'type': 'l',\n",
       "  'text': 'Sales of fertilizers for agricultural and horticultural purposes'},\n",
       " {'id': 'MI1301',\n",
       "  'type': 'l',\n",
       "  'text': 'System of Environmental and Economic Accounts'},\n",
       " {'id': 'MI1302', 'type': 'l', 'text': 'Environmental protection expenditure'}]"
      ]
     },
     "execution_count": 3,
     "metadata": {},
     "output_type": "execute_result"
    }
   ],
   "source": [
    "SCB(\"en\", \"MI\").info()"
   ]
  },
  {
   "cell_type": "code",
   "execution_count": 5,
   "metadata": {},
   "outputs": [
    {
     "data": {
      "text/plain": [
       "[{'id': 'TotaltUtslappN',\n",
       "  'type': 't',\n",
       "  'text': 'Total emissions and removals of greenhouse gases by greenhouse gas and sector. Year 1990 - 2021',\n",
       "  'updated': '2023-03-15T08:00:00'},\n",
       " {'id': 'MI0107UppvBoLok',\n",
       "  'type': 't',\n",
       "  'text': 'Emissions of greenhouse gases from heating of houses and buildings by greenhouse gas and subsector. Year 1990 - 2021',\n",
       "  'updated': '2023-03-15T08:00:00'},\n",
       " {'id': 'MI0107Prodanv',\n",
       "  'type': 't',\n",
       "  'text': 'Emissions of greenhouse gases from solvent use and other product use by greenhouse gas and area. Year 1990 - 2021',\n",
       "  'updated': '2023-03-15T08:00:00'},\n",
       " {'id': 'MI0107IndustriN',\n",
       "  'type': 't',\n",
       "  'text': 'Emissions of greenhouse gases from industry by greenhouse gas and subsector.  Year 1990 - 2021',\n",
       "  'updated': '2023-03-15T08:00:00'},\n",
       " {'id': 'MI0107JordbrukN',\n",
       "  'type': 't',\n",
       "  'text': 'Emissions of greenhouse gases from agriculture  by greenhouse gas and subsector. Year 1990 - 2021',\n",
       "  'updated': '2023-03-15T08:00:00'}]"
      ]
     },
     "execution_count": 5,
     "metadata": {},
     "output_type": "execute_result"
    }
   ],
   "source": [
    "SCB(\"en\", \"MI\", \"MI0107\").info()[:5]"
   ]
  },
  {
   "cell_type": "code",
   "execution_count": 7,
   "metadata": {},
   "outputs": [
    {
     "data": {
      "text/plain": [
       "{'title': 'Total air emissions by greenhouse gas, sector, observations and year',\n",
       " 'variables': [{'code': 'Vaxthusgaser',\n",
       "   'text': 'greenhouse gas',\n",
       "   'values': ['CO2-ekv.',\n",
       "    'CO2',\n",
       "    'CO2-BIO',\n",
       "    'CH4',\n",
       "    'N2O_CO2-ekv.',\n",
       "    'CH4_CO2-ekv.',\n",
       "    'N2O',\n",
       "    'HFC',\n",
       "    'PFC',\n",
       "    'SF6',\n",
       "    'SF6_CO2-ekv.'],\n",
       "   'valueTexts': ['Total Greenhouse Gases (kt CO2-eqv.)',\n",
       "    'Fossil Carbon Dioxide (CO2) (kt)”',\n",
       "    'Biogenic carbon dioxide (CO2) from fuels (kt)',\n",
       "    'Methane (CH4) (t)',\n",
       "    'Nitrous Oxide (N2O) (kt CO2-eqv.)',\n",
       "    'Methane (CH4) (kt CO2-eqv.)',\n",
       "    'Nitrous Oxide (N2O) (t)',\n",
       "    'Hydrofluorocarbons (HFCs) (kt CO2-eqv.)',\n",
       "    'Perfluorocarbons (PFCs) (kt CO2-eqv.)',\n",
       "    'Sulphur Hexafluoride (SF6) (kg)',\n",
       "    'Sulphur Hexafluoride (SF6) (kt CO2-eqv.)']},\n",
       "  {'code': 'Sektor',\n",
       "   'text': 'sector',\n",
       "   'values': ['0.1',\n",
       "    '0.2',\n",
       "    '0.3',\n",
       "    '0.4',\n",
       "    '1.0',\n",
       "    '2.0',\n",
       "    '3.0',\n",
       "    '4.0',\n",
       "    '8.0',\n",
       "    '5.0',\n",
       "    '6.0',\n",
       "    '7.0',\n",
       "    '9.0',\n",
       "    '10.0'],\n",
       "   'valueTexts': ['NATIONAL TOTAL (excluding LULUCF, excluding international transports)',\n",
       "    'NATIONAL TOTAL (excluding LULUCF, including international transports)',\n",
       "    'NATIONAL TOTAL (including LULUCF, excluding international transports)',\n",
       "    'NATIONAL TOTAL (including LULUCF, including international transports)',\n",
       "    'OFF-ROAD VEHICLES AND OTHER MACHINERY, TOTAL',\n",
       "    'WASTE, TOTAL',\n",
       "    'ELECTRICITY AND DISTRICT HEATING, TOTAL',\n",
       "    'INDUSTRY, TOTAL',\n",
       "    'DOMESTIC TRANSPORT, TOTAL',\n",
       "    'INTERNATIONAL TRANSPORT, TOTAL',\n",
       "    'AGRICULTURE, TOTAL',\n",
       "    'SOLVENT USE AND OTHER PRODUCT USE, TOTAL',\n",
       "    'HEATING OF HOUSES AND PREMISES, TOTAL',\n",
       "    'LAND-USE, LAND-USE CHANGE AND FORESTRY (LULUCF), TOTAL']},\n",
       "  {'code': 'ContentsCode',\n",
       "   'text': 'observations',\n",
       "   'values': ['0000018Q'],\n",
       "   'valueTexts': ['Substance']},\n",
       "  {'code': 'Tid',\n",
       "   'text': 'year',\n",
       "   'values': ['1990',\n",
       "    '1991',\n",
       "    '1992',\n",
       "    '1993',\n",
       "    '1994',\n",
       "    '1995',\n",
       "    '1996',\n",
       "    '1997',\n",
       "    '1998',\n",
       "    '1999',\n",
       "    '2000',\n",
       "    '2001',\n",
       "    '2002',\n",
       "    '2003',\n",
       "    '2004',\n",
       "    '2005',\n",
       "    '2006',\n",
       "    '2007',\n",
       "    '2008',\n",
       "    '2009',\n",
       "    '2010',\n",
       "    '2011',\n",
       "    '2012',\n",
       "    '2013',\n",
       "    '2014',\n",
       "    '2015',\n",
       "    '2016',\n",
       "    '2017',\n",
       "    '2018',\n",
       "    '2019',\n",
       "    '2020',\n",
       "    '2021'],\n",
       "   'valueTexts': ['1990',\n",
       "    '1991',\n",
       "    '1992',\n",
       "    '1993',\n",
       "    '1994',\n",
       "    '1995',\n",
       "    '1996',\n",
       "    '1997',\n",
       "    '1998',\n",
       "    '1999',\n",
       "    '2000',\n",
       "    '2001',\n",
       "    '2002',\n",
       "    '2003',\n",
       "    '2004',\n",
       "    '2005',\n",
       "    '2006',\n",
       "    '2007',\n",
       "    '2008',\n",
       "    '2009',\n",
       "    '2010',\n",
       "    '2011',\n",
       "    '2012',\n",
       "    '2013',\n",
       "    '2014',\n",
       "    '2015',\n",
       "    '2016',\n",
       "    '2017',\n",
       "    '2018',\n",
       "    '2019',\n",
       "    '2020',\n",
       "    '2021'],\n",
       "   'time': True}]}"
      ]
     },
     "execution_count": 7,
     "metadata": {},
     "output_type": "execute_result"
    }
   ],
   "source": [
    "SCB(\"en\", \"MI\", \"MI0107\", \"TotaltUtslappN\").info()"
   ]
  },
  {
   "attachments": {},
   "cell_type": "markdown",
   "metadata": {},
   "source": [
    "## Exploring metadata"
   ]
  },
  {
   "cell_type": "code",
   "execution_count": 8,
   "metadata": {},
   "outputs": [
    {
     "data": {
      "text/plain": [
       "dict_keys(['title', 'variables'])"
      ]
     },
     "execution_count": 8,
     "metadata": {},
     "output_type": "execute_result"
    }
   ],
   "source": [
    "scb_emissions = SCB(\"en\", \"MI\", \"MI0107\", \"TotaltUtslappN\")\n",
    "emissions_info = scb_emissions.info()\n",
    "emissions_info.keys()"
   ]
  },
  {
   "cell_type": "code",
   "execution_count": 9,
   "metadata": {},
   "outputs": [
    {
     "data": {
      "text/plain": [
       "'Total air emissions by greenhouse gas, sector, observations and year'"
      ]
     },
     "execution_count": 9,
     "metadata": {},
     "output_type": "execute_result"
    }
   ],
   "source": [
    "emissions_info[\"title\"]"
   ]
  },
  {
   "cell_type": "code",
   "execution_count": 13,
   "metadata": {},
   "outputs": [
    {
     "data": {
      "text/plain": [
       "[{'code': 'Vaxthusgaser',\n",
       "  'text': 'greenhouse gas',\n",
       "  'values': ['CO2-ekv.',\n",
       "   'CO2',\n",
       "   'CO2-BIO',\n",
       "   'CH4',\n",
       "   'N2O_CO2-ekv.',\n",
       "   'CH4_CO2-ekv.',\n",
       "   'N2O',\n",
       "   'HFC',\n",
       "   'PFC',\n",
       "   'SF6',\n",
       "   'SF6_CO2-ekv.'],\n",
       "  'valueTexts': ['Total Greenhouse Gases (kt CO2-eqv.)',\n",
       "   'Fossil Carbon Dioxide (CO2) (kt)”',\n",
       "   'Biogenic carbon dioxide (CO2) from fuels (kt)',\n",
       "   'Methane (CH4) (t)',\n",
       "   'Nitrous Oxide (N2O) (kt CO2-eqv.)',\n",
       "   'Methane (CH4) (kt CO2-eqv.)',\n",
       "   'Nitrous Oxide (N2O) (t)',\n",
       "   'Hydrofluorocarbons (HFCs) (kt CO2-eqv.)',\n",
       "   'Perfluorocarbons (PFCs) (kt CO2-eqv.)',\n",
       "   'Sulphur Hexafluoride (SF6) (kg)',\n",
       "   'Sulphur Hexafluoride (SF6) (kt CO2-eqv.)']},\n",
       " {'code': 'Sektor',\n",
       "  'text': 'sector',\n",
       "  'values': ['0.1',\n",
       "   '0.2',\n",
       "   '0.3',\n",
       "   '0.4',\n",
       "   '1.0',\n",
       "   '2.0',\n",
       "   '3.0',\n",
       "   '4.0',\n",
       "   '8.0',\n",
       "   '5.0',\n",
       "   '6.0',\n",
       "   '7.0',\n",
       "   '9.0',\n",
       "   '10.0'],\n",
       "  'valueTexts': ['NATIONAL TOTAL (excluding LULUCF, excluding international transports)',\n",
       "   'NATIONAL TOTAL (excluding LULUCF, including international transports)',\n",
       "   'NATIONAL TOTAL (including LULUCF, excluding international transports)',\n",
       "   'NATIONAL TOTAL (including LULUCF, including international transports)',\n",
       "   'OFF-ROAD VEHICLES AND OTHER MACHINERY, TOTAL',\n",
       "   'WASTE, TOTAL',\n",
       "   'ELECTRICITY AND DISTRICT HEATING, TOTAL',\n",
       "   'INDUSTRY, TOTAL',\n",
       "   'DOMESTIC TRANSPORT, TOTAL',\n",
       "   'INTERNATIONAL TRANSPORT, TOTAL',\n",
       "   'AGRICULTURE, TOTAL',\n",
       "   'SOLVENT USE AND OTHER PRODUCT USE, TOTAL',\n",
       "   'HEATING OF HOUSES AND PREMISES, TOTAL',\n",
       "   'LAND-USE, LAND-USE CHANGE AND FORESTRY (LULUCF), TOTAL']},\n",
       " {'code': 'ContentsCode',\n",
       "  'text': 'observations',\n",
       "  'values': ['0000018Q'],\n",
       "  'valueTexts': ['Substance']},\n",
       " {'code': 'Tid',\n",
       "  'text': 'year',\n",
       "  'values': ['1990',\n",
       "   '1991',\n",
       "   '1992',\n",
       "   '1993',\n",
       "   '1994',\n",
       "   '1995',\n",
       "   '1996',\n",
       "   '1997',\n",
       "   '1998',\n",
       "   '1999',\n",
       "   '2000',\n",
       "   '2001',\n",
       "   '2002',\n",
       "   '2003',\n",
       "   '2004',\n",
       "   '2005',\n",
       "   '2006',\n",
       "   '2007',\n",
       "   '2008',\n",
       "   '2009',\n",
       "   '2010',\n",
       "   '2011',\n",
       "   '2012',\n",
       "   '2013',\n",
       "   '2014',\n",
       "   '2015',\n",
       "   '2016',\n",
       "   '2017',\n",
       "   '2018',\n",
       "   '2019',\n",
       "   '2020',\n",
       "   '2021'],\n",
       "  'valueTexts': ['1990',\n",
       "   '1991',\n",
       "   '1992',\n",
       "   '1993',\n",
       "   '1994',\n",
       "   '1995',\n",
       "   '1996',\n",
       "   '1997',\n",
       "   '1998',\n",
       "   '1999',\n",
       "   '2000',\n",
       "   '2001',\n",
       "   '2002',\n",
       "   '2003',\n",
       "   '2004',\n",
       "   '2005',\n",
       "   '2006',\n",
       "   '2007',\n",
       "   '2008',\n",
       "   '2009',\n",
       "   '2010',\n",
       "   '2011',\n",
       "   '2012',\n",
       "   '2013',\n",
       "   '2014',\n",
       "   '2015',\n",
       "   '2016',\n",
       "   '2017',\n",
       "   '2018',\n",
       "   '2019',\n",
       "   '2020',\n",
       "   '2021'],\n",
       "  'time': True}]"
      ]
     },
     "execution_count": 13,
     "metadata": {},
     "output_type": "execute_result"
    }
   ],
   "source": [
    "emissions_info[\"variables\"]"
   ]
  },
  {
   "cell_type": "code",
   "execution_count": 14,
   "metadata": {},
   "outputs": [
    {
     "data": {
      "text/plain": [
       "dict_keys(['code', 'text', 'values', 'valueTexts'])"
      ]
     },
     "execution_count": 14,
     "metadata": {},
     "output_type": "execute_result"
    }
   ],
   "source": [
    "emissions_info[\"variables\"][0].keys()"
   ]
  },
  {
   "cell_type": "code",
   "execution_count": 17,
   "metadata": {},
   "outputs": [
    {
     "data": {
      "text/plain": [
       "dict_keys(['greenhouse gas', 'sector', 'observations', 'year'])"
      ]
     },
     "execution_count": 17,
     "metadata": {},
     "output_type": "execute_result"
    }
   ],
   "source": [
    "emissions_veriables = scb_emissions.get_variables()\n",
    "emissions_veriables.keys()"
   ]
  },
  {
   "cell_type": "code",
   "execution_count": null,
   "metadata": {},
   "outputs": [],
   "source": []
  }
 ],
 "metadata": {
  "kernelspec": {
   "display_name": "venv",
   "language": "python",
   "name": "python3"
  },
  "language_info": {
   "codemirror_mode": {
    "name": "ipython",
    "version": 3
   },
   "file_extension": ".py",
   "mimetype": "text/x-python",
   "name": "python",
   "nbconvert_exporter": "python",
   "pygments_lexer": "ipython3",
   "version": "3.9.6"
  },
  "orig_nbformat": 4
 },
 "nbformat": 4,
 "nbformat_minor": 2
}
